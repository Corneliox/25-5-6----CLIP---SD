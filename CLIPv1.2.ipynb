{
 "cells": [
  {
   "cell_type": "code",
   "execution_count": 11,
   "id": "23c0e7ba",
   "metadata": {},
   "outputs": [],
   "source": [
    "import os\n",
    "import torch\n",
    "from PIL import Image\n",
    "from transformers import CLIPProcessor, CLIPModel\n",
    "import tqdm as notebook_tqdm"
   ]
  },
  {
   "cell_type": "code",
   "execution_count": 12,
   "id": "bdf4147d",
   "metadata": {},
   "outputs": [],
   "source": [
    "# Initialize model and processor\n",
    "device = \"cuda\" if torch.cuda.is_available() else \"cpu\"\n",
    "model = CLIPModel.from_pretrained(\"openai/clip-vit-base-patch32\").to(device)\n",
    "processor = CLIPProcessor.from_pretrained(\"openai/clip-vit-base-patch32\")\n"
   ]
  },
  {
   "cell_type": "code",
   "execution_count": 17,
   "id": "cbaace97",
   "metadata": {},
   "outputs": [],
   "source": [
    "# Settings\n",
    "positive_prompt = \"young, friendly, and energetic south east asian college girl\"\n",
    "negative_prompt = \"bad_anatomy, 2girl, amputation, disconnected_limbs, cartoon, animate, cgi, render, artwork, illustration, 3d_render, cinema_4d, artstation, octane_render, twisted, UI, underexposed, unnatural, unreal_engine, unrealistic, video_game, deformed_body_features\"\n",
    "image_folders = {\n",
    "    \"Enhance\": \"./Dataset/Train/2_Enhance\",\n",
    "    \"Dzine\": \"./Dataset/Dzine\",\n",
    "    \"Sketch\": \"./Dataset/Sketch\",\n",
    "}\n",
    "keywords = [\"friendly\", \"young\", \"energetic\"]  # Key positive prompt keywords\n",
    "\n",
    "def calculate_clip_score(image_path, positive_prompt, negative_prompt, processor, model, device):\n",
    "    image = Image.open(image_path).convert(\"RGB\")\n",
    "    inputs = processor(text=[positive_prompt, negative_prompt], images=image, return_tensors=\"pt\", padding=True).to(device)\n",
    "    outputs = model(**inputs)\n",
    "    # The higher score is better for positive prompt, the lower is better for negative prompt.\n",
    "    positive_score = outputs.logits_per_image[0][0].item()\n",
    "    negative_score = outputs.logits_per_image[0][1].item()\n",
    "    return positive_score - negative_score # A simple way to combine.  You might want to experiment with different combinations.\n"
   ]
  },
  {
   "cell_type": "code",
   "execution_count": 18,
   "id": "19c46ad8",
   "metadata": {},
   "outputs": [
    {
     "name": "stdout",
     "output_type": "stream",
     "text": [
      "Folder: Enhance, Image: Untitled (1).png, Combined CLIPScore = 10.0817\n",
      "Folder: Enhance, Image: Untitled (12).png, Combined CLIPScore = 8.0175\n",
      "Folder: Enhance, Image: Untitled (13).png, Combined CLIPScore = 9.7170\n",
      "Folder: Enhance, Image: Untitled (14).png, Combined CLIPScore = 4.1173\n",
      "Folder: Enhance, Image: Untitled (15).png, Combined CLIPScore = 4.9786\n",
      "Folder: Enhance, Image: Untitled (16).png, Combined CLIPScore = 4.1242\n",
      "Folder: Enhance, Image: Untitled (17).png, Combined CLIPScore = 5.8165\n",
      "Folder: Enhance, Image: Untitled (18).png, Combined CLIPScore = 6.8701\n",
      "Folder: Enhance, Image: Untitled (19).png, Combined CLIPScore = 5.4736\n",
      "Folder: Enhance, Image: Untitled (2).png, Combined CLIPScore = 3.0222\n",
      "Folder: Enhance, Image: Untitled (20).png, Combined CLIPScore = 5.4736\n",
      "Folder: Enhance, Image: Untitled (23).png, Combined CLIPScore = 9.9888\n",
      "Folder: Enhance, Image: Untitled (24).png, Combined CLIPScore = 8.9136\n",
      "Folder: Enhance, Image: Untitled (25).png, Combined CLIPScore = 9.9457\n",
      "Folder: Enhance, Image: Untitled (26).png, Combined CLIPScore = 11.2063\n",
      "Folder: Enhance, Image: Untitled (27).png, Combined CLIPScore = 10.8811\n",
      "Folder: Enhance, Image: Untitled (28).png, Combined CLIPScore = 12.1455\n",
      "Folder: Enhance, Image: Untitled (29).png, Combined CLIPScore = 12.6283\n",
      "Folder: Enhance, Image: Untitled (3).png, Combined CLIPScore = 10.8314\n",
      "Folder: Enhance, Image: Untitled (30).png, Combined CLIPScore = 12.3330\n",
      "Folder: Enhance, Image: Untitled (31).png, Combined CLIPScore = 9.1294\n",
      "Folder: Enhance, Image: Untitled (32).png, Combined CLIPScore = 12.0896\n",
      "Folder: Enhance, Image: Untitled (33).png, Combined CLIPScore = 11.5776\n",
      "Folder: Enhance, Image: Untitled (34).png, Combined CLIPScore = 13.0164\n",
      "Folder: Enhance, Image: Untitled (35).png, Combined CLIPScore = 10.2060\n",
      "Folder: Enhance, Image: Untitled (36).png, Combined CLIPScore = 11.3538\n",
      "Folder: Enhance, Image: Untitled (37).png, Combined CLIPScore = 11.8366\n",
      "Folder: Enhance, Image: Untitled (4).png, Combined CLIPScore = 9.3590\n",
      "Folder: Enhance, Image: Untitled (40).png, Combined CLIPScore = 13.6919\n",
      "Folder: Enhance, Image: Untitled (41).png, Combined CLIPScore = 11.8050\n",
      "Folder: Enhance, Image: Untitled (42).png, Combined CLIPScore = 12.8864\n",
      "Folder: Enhance, Image: Untitled (43).png, Combined CLIPScore = 10.9888\n",
      "Folder: Enhance, Image: Untitled (45).png, Combined CLIPScore = 8.1525\n",
      "Folder: Enhance, Image: Untitled (46).png, Combined CLIPScore = 9.0771\n",
      "Folder: Enhance, Image: Untitled (47).png, Combined CLIPScore = 9.6524\n",
      "Folder: Enhance, Image: Untitled (48).png, Combined CLIPScore = 10.6291\n",
      "Folder: Enhance, Image: Untitled (49).png, Combined CLIPScore = 10.7952\n",
      "Folder: Enhance, Image: Untitled (5).png, Combined CLIPScore = 12.2657\n",
      "Folder: Enhance, Image: Untitled (50).png, Combined CLIPScore = 7.2735\n",
      "Folder: Enhance, Image: Untitled (51).png, Combined CLIPScore = 8.6055\n",
      "Folder: Enhance, Image: Untitled (52).png, Combined CLIPScore = 6.7091\n",
      "Folder: Enhance, Image: Untitled (53).png, Combined CLIPScore = 7.1120\n",
      "Folder: Enhance, Image: Untitled (58).png, Combined CLIPScore = 11.0738\n",
      "Folder: Enhance, Image: Untitled (59).png, Combined CLIPScore = 10.3494\n",
      "Folder: Enhance, Image: Untitled (6).png, Combined CLIPScore = 6.3644\n",
      "Folder: Enhance, Image: Untitled (60).png, Combined CLIPScore = 9.4685\n",
      "Folder: Enhance, Image: Untitled (61).png, Combined CLIPScore = 9.5975\n",
      "Folder: Enhance, Image: Untitled (62).png, Combined CLIPScore = 11.9724\n",
      "Folder: Enhance, Image: Untitled (63).png, Combined CLIPScore = 12.2037\n",
      "Folder: Enhance, Image: Untitled (8).png, Combined CLIPScore = 1.5223\n",
      "Folder: Enhance, Image: Untitled (9).png, Combined CLIPScore = 5.4692\n",
      "\n",
      "✅ Best Image in Folder Enhance: Untitled (40).png with Combined CLIPScore = 13.6919\n"
     ]
    },
    {
     "ename": "ValueError",
     "evalue": "Unknown format code 'f' for object of type 'str'",
     "output_type": "error",
     "traceback": [
      "\u001b[1;31m---------------------------------------------------------------------------\u001b[0m",
      "\u001b[1;31mValueError\u001b[0m                                Traceback (most recent call last)",
      "Cell \u001b[1;32mIn[18], line 15\u001b[0m\n\u001b[0;32m     13\u001b[0m     results\u001b[38;5;241m.\u001b[39msort(key\u001b[38;5;241m=\u001b[39m\u001b[38;5;28;01mlambda\u001b[39;00m x: x[\u001b[38;5;241m1\u001b[39m], reverse\u001b[38;5;241m=\u001b[39m\u001b[38;5;28;01mTrue\u001b[39;00m)  \u001b[38;5;66;03m# Sort by combined score\u001b[39;00m\n\u001b[0;32m     14\u001b[0m     best \u001b[38;5;241m=\u001b[39m results[\u001b[38;5;241m0\u001b[39m] \u001b[38;5;28;01mif\u001b[39;00m results \u001b[38;5;28;01melse\u001b[39;00m (\u001b[38;5;124m\"\u001b[39m\u001b[38;5;124mN/A\u001b[39m\u001b[38;5;124m\"\u001b[39m, \u001b[38;5;124m\"\u001b[39m\u001b[38;5;124mN/A\u001b[39m\u001b[38;5;124m\"\u001b[39m)\n\u001b[1;32m---> 15\u001b[0m     \u001b[38;5;28mprint\u001b[39m(\u001b[38;5;124mf\u001b[39m\u001b[38;5;124m\"\u001b[39m\u001b[38;5;130;01m\\n\u001b[39;00m\u001b[38;5;124m✅ Best Image in Folder \u001b[39m\u001b[38;5;132;01m{\u001b[39;00mfolder_name\u001b[38;5;132;01m}\u001b[39;00m\u001b[38;5;124m: \u001b[39m\u001b[38;5;132;01m{\u001b[39;00mbest[\u001b[38;5;241m0\u001b[39m]\u001b[38;5;132;01m}\u001b[39;00m\u001b[38;5;124m with Combined CLIPScore = \u001b[39m\u001b[38;5;132;01m{\u001b[39;00mbest[\u001b[38;5;241m1\u001b[39m]\u001b[38;5;132;01m:\u001b[39;00m\u001b[38;5;124m.4f\u001b[39m\u001b[38;5;132;01m}\u001b[39;00m\u001b[38;5;124m\"\u001b[39m)\n\u001b[0;32m     16\u001b[0m     all_results[folder_name] \u001b[38;5;241m=\u001b[39m {\u001b[38;5;124m\"\u001b[39m\u001b[38;5;124mbest_image\u001b[39m\u001b[38;5;124m\"\u001b[39m: best[\u001b[38;5;241m0\u001b[39m], \u001b[38;5;124m\"\u001b[39m\u001b[38;5;124mbest_score\u001b[39m\u001b[38;5;124m\"\u001b[39m: best[\u001b[38;5;241m1\u001b[39m], \u001b[38;5;124m\"\u001b[39m\u001b[38;5;124mall_scores\u001b[39m\u001b[38;5;124m\"\u001b[39m: results}\n\u001b[0;32m     18\u001b[0m \u001b[38;5;28mprint\u001b[39m(\u001b[38;5;124m\"\u001b[39m\u001b[38;5;130;01m\\n\u001b[39;00m\u001b[38;5;124m--- Keyword Analysis (Example - best image from Enhance folder) ---\u001b[39m\u001b[38;5;124m\"\u001b[39m)\n",
      "\u001b[1;31mValueError\u001b[0m: Unknown format code 'f' for object of type 'str'"
     ]
    }
   ],
   "source": [
    "# Process images from all specified folders\n",
    "all_results = {}\n",
    "for folder_name, image_folder in image_folders.items():\n",
    "    results = []\n",
    "    for filename in os.listdir(image_folder):\n",
    "        if not (filename.endswith(\".jpg\") or filename.endswith(\".png\")):  # Adjust as needed\n",
    "            continue\n",
    "        image_path = os.path.join(image_folder, filename)\n",
    "        score = calculate_clip_score(image_path, positive_prompt, negative_prompt, processor, model, device)\n",
    "        results.append((filename, score))\n",
    "        print(f\"Folder: {folder_name}, Image: {filename}, Combined CLIPScore = {score:.4f}\")\n",
    "\n",
    "    results.sort(key=lambda x: x[1], reverse=True)  # Sort by combined score\n",
    "    best = results[0] if results else (\"N/A\", \"N/A\")\n",
    "    print(f\"\\n✅ Best Image in Folder {folder_name}: {best[0]} with Combined CLIPScore = {best[1]:.4f}\")\n",
    "    all_results[folder_name] = {\"best_image\": best[0], \"best_score\": best[1], \"all_scores\": results}\n",
    "\n",
    "print(\"\\n--- Keyword Analysis (Example - best image from Enhance folder) ---\")\n",
    "if \"Enhance\" in all_results:\n",
    "    best_enhance_image = all_results[\"Enhance\"][\"best_image\"]\n",
    "    image_path = os.path.join(image_folders[\"Enhance\"], best_enhance_image)\n",
    "    for keyword in keywords:\n",
    "        keyword_score = calculate_clip_score(image_path, keyword, negative_prompt, processor, model, device)\n",
    "        print(f\"  Keyword '{keyword}': Score = {keyword_score:.4f}\")\n"
   ]
  },
  {
   "cell_type": "code",
   "execution_count": 19,
   "id": "723ed0ef",
   "metadata": {},
   "outputs": [
    {
     "name": "stdout",
     "output_type": "stream",
     "text": [
      "\n",
      "Overall Results:\n",
      "  Folder: Enhance, Best Image: Untitled (40).png, Best Score: 13.691920280456543\n"
     ]
    }
   ],
   "source": [
    "# You can adapt the keyword analysis for other folders as needed.\n",
    "print(\"\\nOverall Results:\")\n",
    "for folder, data in all_results.items():\n",
    "    print(f\"  Folder: {folder}, Best Image: {data['best_image']}, Best Score: {data['best_score']}\")"
   ]
  }
 ],
 "metadata": {
  "kernelspec": {
   "display_name": "kohya_env",
   "language": "python",
   "name": "python3"
  },
  "language_info": {
   "codemirror_mode": {
    "name": "ipython",
    "version": 3
   },
   "file_extension": ".py",
   "mimetype": "text/x-python",
   "name": "python",
   "nbconvert_exporter": "python",
   "pygments_lexer": "ipython3",
   "version": "3.10.11"
  }
 },
 "nbformat": 4,
 "nbformat_minor": 5
}
